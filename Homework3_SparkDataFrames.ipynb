{
 "cells": [
  {
   "cell_type": "code",
   "execution_count": 1,
   "metadata": {
    "collapsed": true
   },
   "outputs": [],
   "source": [
    "%matplotlib inline\n",
    "import matplotlib.pylab as plt\n",
    "plt.rcParams['figure.figsize'] = (10,6)\n",
    "plt.rcParams['font.size'] = 18\n",
    "plt.style.use('fivethirtyeight')"
   ]
  },
  {
   "cell_type": "markdown",
   "metadata": {},
   "source": [
    "# Uncovering World Events using Twitter Hashtags\n",
    "\n",
    "## ... and learning about Spark `DataFrames` along the way\n",
    "\n",
    "In this notebook, we will use temporal information about Twitter hashtags to discover trending topics and potentially uncover world events as they occurred. You've already used this dataset in a previous homework, but here we will be working with it in Apache Spark.\n",
    "\n",
    "### Hashtags\n",
    "\n",
    "The idea here is that when an event is happening and people are having a conversation about it on Twitter, a set of uniform hashtags that represent the event spontaneously evolves. Twitter users then use those hashtags to communicate with one another. Some hashtags, like `#RT` for \"retweet\" or just `#retweet` are used frequently and don't tell us much about what is going on. But a sudden appearance of a hashtag like `#oscars` probably indicates that the oscars are underway. For a particularly cool example of this type of analysis, check out [this blog post about earthquake detection using Twitter data](https://blog.twitter.com/official/en_us/a/2015/usgs-twitter-data-earthquake-detection.html) (although they search the text and not necessarily hashtags)."
   ]
  },
  {
   "cell_type": "markdown",
   "metadata": {},
   "source": [
    "## Initialize the `SparkSession`"
   ]
  },
  {
   "cell_type": "code",
   "execution_count": 2,
   "metadata": {},
   "outputs": [
    {
     "data": {
      "text/html": [
       "\n",
       "        <div>\n",
       "            <p><b>SparkContext</b></p>\n",
       "\n",
       "            <p><a href=\"http://10.90.38.21:4042\">Spark UI</a></p>\n",
       "\n",
       "            <dl>\n",
       "              <dt>Version</dt>\n",
       "                <dd><code>v2.2.0.2.6.4.0-91</code></dd>\n",
       "              <dt>Master</dt>\n",
       "                <dd><code>yarn</code></dd>\n",
       "              <dt>AppName</dt>\n",
       "                <dd><code>twitter-yaghini</code></dd>\n",
       "            </dl>\n",
       "        </div>\n",
       "        "
      ],
      "text/plain": [
       "<SparkContext master=yarn appName=twitter-yaghini>"
      ]
     },
     "execution_count": 2,
     "metadata": {},
     "output_type": "execute_result"
    }
   ],
   "source": [
    "import getpass\n",
    "import pyspark\n",
    "from pyspark.sql import SparkSession\n",
    "\n",
    "conf = pyspark.conf.SparkConf()\n",
    "conf.setMaster('yarn')\n",
    "conf.setAppName('twitter-{0}'.format(getpass.getuser()))\n",
    "conf.set('spark.executor.memory', '4g')\n",
    "conf.set('spark.executor.instances', '6')\n",
    "conf.set('spark.port.maxRetries', '100')\n",
    "sc = pyspark.SparkContext.getOrCreate(conf)\n",
    "conf = sc.getConf()\n",
    "sc"
   ]
  },
  {
   "cell_type": "code",
   "execution_count": 3,
   "metadata": {
    "collapsed": true
   },
   "outputs": [],
   "source": [
    "spark = SparkSession(sc)"
   ]
  },
  {
   "cell_type": "markdown",
   "metadata": {},
   "source": [
    "## Set up the hashtag `DataFrame` (10 points / 60)\n",
    "\n",
    "We have prepared the hashtag data spanning the time from April-July 2016. This is a significant time in modern European history, e.g. see [Brexit](https://en.wikipedia.org/wiki/Brexit). Lets see if we can see any interesting trends about these events in the Twitter data. "
   ]
  },
  {
   "cell_type": "code",
   "execution_count": 4,
   "metadata": {
    "collapsed": true
   },
   "outputs": [],
   "source": [
    "from datetime import datetime\n",
    "\n",
    "import pyspark.sql.functions as functions"
   ]
  },
  {
   "cell_type": "markdown",
   "metadata": {},
   "source": [
    "### TODO (1 point/10)\n",
    "\n",
    "Load the **parquet** data from `/datasets/twitter_hashtags` into a Spark dataframe using the appropriate `SparkSession` method. \n",
    "\n",
    "Look at the first few rows of the dataset - note the timestamp and its units!"
   ]
  },
  {
   "cell_type": "code",
   "execution_count": 5,
   "metadata": {
    "collapsed": true
   },
   "outputs": [],
   "source": [
    "df = spark.read.parquet('/datasets/twitter_hashtags')"
   ]
  },
  {
   "cell_type": "code",
   "execution_count": 6,
   "metadata": {},
   "outputs": [
    {
     "name": "stdout",
     "output_type": "stream",
     "text": [
      "+-------------+----+-------------+\n",
      "| timestamp_ms|lang|      hashtag|\n",
      "+-------------+----+-------------+\n",
      "|1459492860657| und|   2896Nation|\n",
      "|1459492860657| und|     Republik|\n",
      "|1459492860658|  en|          win|\n",
      "|1459492860658|  en|  competition|\n",
      "|1459492860658|  en|     giveaway|\n",
      "|1459492860664|  tl| ALDUBYayaWho|\n",
      "|1459492860663|  th|        ไคตัล|\n",
      "|1459492860660|  es|      muybien|\n",
      "|1459492860660|  th|    FLY2NDWIN|\n",
      "|1459492860665|  en|      5SOSFam|\n",
      "|1459492860665|  en|  BestFanArmy|\n",
      "|1459492860665|  en| iHeartAwards|\n",
      "|1459492861661|  ja|      hempire|\n",
      "|1459492861657|  th|        ไคตัล|\n",
      "|1459492861657|  es|    Venezuela|\n",
      "|1459492861657|  es|   cristianos|\n",
      "|1459492861660| und|         RUSH|\n",
      "|1459492861660| und|        TFBJP|\n",
      "|1459492861660| und|       TFBANG|\n",
      "|1459492861661|  en|BirdieSanders|\n",
      "+-------------+----+-------------+\n",
      "only showing top 20 rows\n",
      "\n"
     ]
    }
   ],
   "source": [
    "df.show()"
   ]
  },
  {
   "cell_type": "markdown",
   "metadata": {},
   "source": [
    "### User-defined functions\n",
    "\n",
    "A neat trick of spark dataframes is that you can essentially use something very much like an RDD `map` method but without switching to the RDD. If you are familiar with database languages, this works very much like e.g. a user-defined function in SQL. \n",
    "\n",
    "So, for example, if we wanted to make a user-defined python function that returns the hashtags in lowercase, we could do something like this:"
   ]
  },
  {
   "cell_type": "code",
   "execution_count": 7,
   "metadata": {
    "collapsed": true
   },
   "outputs": [],
   "source": [
    "@functions.udf\n",
    "def lowercase(text):\n",
    "    \"\"\"Convert text to lowercase\"\"\"\n",
    "    return text.lower()"
   ]
  },
  {
   "cell_type": "markdown",
   "metadata": {},
   "source": [
    "The @functions.udf is a \"decorator\" -- this is really handy python syntactic sugar and in this case is equivalent to:\n",
    "\n",
    "```\n",
    "def lowercase(text):\n",
    "    return text.lower()\n",
    "    \n",
    "lowercase = functions.udf(lowercase)\n",
    "```\n",
    "\n",
    "It basically takes our function and adds to its functionality. In this case, it registers our function as a pyspark dataframe user-defined function (UDF).\n",
    "\n",
    "Using these UDFs is very straightforward and analogous to other Spark dataframe operations. For example:"
   ]
  },
  {
   "cell_type": "code",
   "execution_count": 8,
   "metadata": {},
   "outputs": [
    {
     "name": "stdout",
     "output_type": "stream",
     "text": [
      "+------------------+\n",
      "|lowercase(hashtag)|\n",
      "+------------------+\n",
      "|        2896nation|\n",
      "|          republik|\n",
      "|               win|\n",
      "|       competition|\n",
      "|          giveaway|\n",
      "|      aldubyayawho|\n",
      "|             ไคตัล|\n",
      "|           muybien|\n",
      "|         fly2ndwin|\n",
      "|           5sosfam|\n",
      "|       bestfanarmy|\n",
      "|      iheartawards|\n",
      "|           hempire|\n",
      "|             ไคตัล|\n",
      "|         venezuela|\n",
      "|        cristianos|\n",
      "|              rush|\n",
      "|             tfbjp|\n",
      "|            tfbang|\n",
      "|     birdiesanders|\n",
      "+------------------+\n",
      "only showing top 20 rows\n",
      "\n"
     ]
    }
   ],
   "source": [
    "df.select(lowercase(df.hashtag)).show()"
   ]
  },
  {
   "cell_type": "markdown",
   "metadata": {},
   "source": [
    "Using a framework like Spark is all about understanding the ins and outs of how it functions and knowing what it offers. One of the cool things about the dataframe API is that many functions are already defined for you (turning strings into lowercase being one of them). \n",
    "\n",
    "### TODO (2 points / 10)\n",
    "\n",
    "Find the Spark python API documentation. Look for the `sql` section and find the listing of `sql.functions`. Repeat the above (turning hashtags into lowercase) but use the built-in function."
   ]
  },
  {
   "cell_type": "code",
   "execution_count": 9,
   "metadata": {},
   "outputs": [
    {
     "name": "stdout",
     "output_type": "stream",
     "text": [
      "+--------------+\n",
      "|lower(hashtag)|\n",
      "+--------------+\n",
      "|    2896nation|\n",
      "|      republik|\n",
      "|           win|\n",
      "|   competition|\n",
      "|      giveaway|\n",
      "|  aldubyayawho|\n",
      "|         ไคตัล|\n",
      "|       muybien|\n",
      "|     fly2ndwin|\n",
      "|       5sosfam|\n",
      "|   bestfanarmy|\n",
      "|  iheartawards|\n",
      "|       hempire|\n",
      "|         ไคตัล|\n",
      "|     venezuela|\n",
      "|    cristianos|\n",
      "|          rush|\n",
      "|         tfbjp|\n",
      "|        tfbang|\n",
      "| birdiesanders|\n",
      "+--------------+\n",
      "only showing top 20 rows\n",
      "\n"
     ]
    }
   ],
   "source": [
    "from pyspark.sql.functions import lower\n",
    "df.select(lower(df.hashtag)).show()"
   ]
  },
  {
   "cell_type": "markdown",
   "metadata": {},
   "source": [
    "We'll work with a combination of these built-in functions and user-defined functions for the remainder of this homework. \n",
    "\n",
    "### TODO (7 points/10)\n",
    "\n",
    "Create `english_df` consisting of **lowercase** hashtags from only english-language tweets. In addition, convert the timestamp to a more readable format like this and name the column `date`:\n",
    "\n",
    "```\n",
    "2016-04-01 08:41:00\n",
    "```"
   ]
  },
  {
   "cell_type": "markdown",
   "metadata": {},
   "source": [
    "Your `english_df` should look something like this:\n",
    "\n",
    "```\n",
    "+-------------+----+-----------+-------------------+\n",
    "| timestamp_ms|lang|    hashtag|               date|\n",
    "+-------------+----+-----------+-------------------+\n",
    "|1459492860658|  en|        win|2016-04-01 08:41:00|\n",
    "|1459492860658|  en|competition|2016-04-01 08:41:00|\n",
    "|1459492860658|  en|   giveaway|2016-04-01 08:41:00|\n",
    "|1459492860665|  en|    5sosfam|2016-04-01 08:41:00|\n",
    "|1459492860665|  en|bestfanarmy|2016-04-01 08:41:00|\n",
    "+-------------+----+-----------+-------------------+\n",
    "```"
   ]
  },
  {
   "cell_type": "markdown",
   "metadata": {},
   "source": [
    "## Twitter hashtag trends (50 points / 60)\n",
    "\n",
    "In this section we will try to do a slightly more complicated analysis of the tweets. Our goal is to get an idea of tweet frequency as a function of time for certain hashtags. \n",
    "\n",
    "Lets build this up in steps. First, lets see how we can start to organize the tweets by their timestamps. \n",
    "\n",
    "As a first easy example, lets say we just want to count the number of tweets per minute over the entire span of our data. For this, we first need a \"global\" minute value, e.g. \"minute of the year\" or something similar. \n",
    "\n",
    "Spark provides us with some handy built-in dataframe functions that are made for transforming date and time fields. \n",
    "\n",
    "Have a look [here](http://spark.apache.org/docs/latest/api/python/pyspark.sql.html#module-pyspark.sql.functions) to see the whole list of custom dataframe functions - you will need to use them to complete the next set of TODO items."
   ]
  },
  {
   "cell_type": "markdown",
   "metadata": {},
   "source": [
    "Note that the functions can be combined. Consider the following dataframe and its transformation:"
   ]
  },
  {
   "cell_type": "code",
   "execution_count": 10,
   "metadata": {},
   "outputs": [
    {
     "name": "stdout",
     "output_type": "stream",
     "text": [
      "+---------------------+\n",
      "|SIN(RADIANS(degrees))|\n",
      "+---------------------+\n",
      "|                  0.0|\n",
      "|  0.01745240643728351|\n",
      "|  0.03489949670250097|\n",
      "|  0.05233595624294383|\n",
      "|   0.0697564737441253|\n",
      "|  0.08715574274765817|\n",
      "|  0.10452846326765346|\n",
      "|  0.12186934340514748|\n",
      "|  0.13917310096006544|\n",
      "|  0.15643446504023087|\n",
      "|  0.17364817766693033|\n",
      "|   0.1908089953765448|\n",
      "|  0.20791169081775931|\n",
      "|  0.22495105434386498|\n",
      "|  0.24192189559966773|\n",
      "|  0.25881904510252074|\n",
      "|  0.27563735581699916|\n",
      "|   0.2923717047227367|\n",
      "|   0.3090169943749474|\n",
      "|   0.3255681544571567|\n",
      "+---------------------+\n",
      "only showing top 20 rows\n",
      "\n"
     ]
    }
   ],
   "source": [
    "from pyspark.sql import Row\n",
    "\n",
    "# create a sample dataframe with one column \"degrees\" going from 0 to 180\n",
    "test_df = spark.createDataFrame(sc.range(180).map(lambda x: Row(degrees=x)), ['degrees'])\n",
    "\n",
    "# define a function \"sin_rad\" that first converts degrees to radians and then takes the sine using built-in functions\n",
    "sin_rad = functions.sin(functions.radians(test_df.degrees))\n",
    "\n",
    "# show the result\n",
    "test_df.select(sin_rad).show()"
   ]
  },
  {
   "cell_type": "markdown",
   "metadata": {},
   "source": [
    "### DataFrames `groupBy`\n",
    "\n",
    "We used `groupBy` already in the previous notebook, but here we will take more advantage of its features. \n",
    "\n",
    "One important thing to note is that unlike other RDD or DataFrame transformations, the `groupBy` does not return another DataFrame, but a `GroupedData` object instead, with its own methods. These methods allow you to do various transformations and aggregations on the data of the grouped rows. \n",
    "\n",
    "Conceptually the procedure is a lot like this:\n",
    "\n",
    "![groupby](https://i.stack.imgur.com/sgCn1.jpg)\n",
    "\n",
    "The column that is used for the `groupBy` is the `key` - once we have the values of a particular key all together, we can use various aggregation functions on them to generate a transformed dataset. In this example, the aggregation function is a simple `sum`. In the simple procedure below, the `key` will be the hashtag."
   ]
  },
  {
   "cell_type": "markdown",
   "metadata": {},
   "source": [
    "### TODO (1 point / 50)\n",
    "\n",
    "Calculate the top five most common hashtags in the whole english-language dataset.\n",
    "\n",
    "This should be your result:\n",
    "\n",
    "```\n",
    "+-------------+------+\n",
    "|      hashtag| count|\n",
    "+-------------+------+\n",
    "|   mtvhottest|800829|\n",
    "|veranomtv2016|539028|\n",
    "| iheartawards|447651|\n",
    "|  bestfanarmy|429739|\n",
    "|   teenchoice|345250|\n",
    "+-------------+------+\n",
    "```"
   ]
  },
  {
   "cell_type": "code",
   "execution_count": 11,
   "metadata": {},
   "outputs": [
    {
     "name": "stdout",
     "output_type": "stream",
     "text": [
      "+-------------+----+-----------+-------------------+\n",
      "| timestamp_ms|lang|    hashtag|               date|\n",
      "+-------------+----+-----------+-------------------+\n",
      "|1459492860658|  en|        win|2016-04-01 08:41:00|\n",
      "|1459492860658|  en|competition|2016-04-01 08:41:00|\n",
      "|1459492860658|  en|   giveaway|2016-04-01 08:41:00|\n",
      "|1459492860665|  en|    5sosfam|2016-04-01 08:41:00|\n",
      "|1459492860665|  en|bestfanarmy|2016-04-01 08:41:00|\n",
      "+-------------+----+-----------+-------------------+\n",
      "only showing top 5 rows\n",
      "\n"
     ]
    }
   ],
   "source": [
    "from pyspark.sql.functions import from_unixtime\n",
    "english_df = (df.withColumn('hashtag', lower(df.hashtag))\n",
    "                .withColumn('date', from_unixtime(df.timestamp_ms/1000, 'YYYY-MM-dd hh:mm:ss'))\n",
    "                .filter(df.lang.isin('en'))\n",
    "             )\n",
    "english_df.show(5)"
   ]
  },
  {
   "cell_type": "markdown",
   "metadata": {},
   "source": [
    "## Daily hashtag trends\n",
    "\n",
    "Now we will start to complicate the analysis a bit. Remember, our goal is to uncover trending topics on a timescale of a few days. A much needed column then is simply `day`. To convert the date string into day-of-year, you can use the built-in [dayofyear](http://spark.apache.org/docs/latest/api/python/pyspark.sql.html#pyspark.sql.functions.dayofyear) function. \n",
    "\n",
    "In the subsequent sections we will then not only see which hashtags are globally most popular, but which ones experience the biggest changes in popularity - those are the \"trending\" topics. If there is suddenly a substantial increase of a hashtag over a matter of a day or two, it may signify an event taking place. "
   ]
  },
  {
   "cell_type": "code",
   "execution_count": 14,
   "metadata": {},
   "outputs": [
    {
     "name": "stdout",
     "output_type": "stream",
     "text": [
      "+-------------+----+-------------+-------------------+---+\n",
      "| timestamp_ms|lang|      hashtag|               date|day|\n",
      "+-------------+----+-------------+-------------------+---+\n",
      "|1459492860658|  en|          win|2016-04-01 08:41:00| 92|\n",
      "|1459492860658|  en|  competition|2016-04-01 08:41:00| 92|\n",
      "|1459492860658|  en|     giveaway|2016-04-01 08:41:00| 92|\n",
      "|1459492860665|  en|      5sosfam|2016-04-01 08:41:00| 92|\n",
      "|1459492860665|  en|  bestfanarmy|2016-04-01 08:41:00| 92|\n",
      "|1459492860665|  en| iheartawards|2016-04-01 08:41:00| 92|\n",
      "|1459492861661|  en|birdiesanders|2016-04-01 08:41:01| 92|\n",
      "|1459492861665|  en|     deals_us|2016-04-01 08:41:01| 92|\n",
      "|1459492861665|  en|   cellphones|2016-04-01 08:41:01| 92|\n",
      "|1459492862658|  en| iheartawards|2016-04-01 08:41:02| 92|\n",
      "|1459492862658|  en|  bestfanarmy|2016-04-01 08:41:02| 92|\n",
      "|1459492862658|  en|      5sosfam|2016-04-01 08:41:02| 92|\n",
      "|1459492862661|  en|     msgprays|2016-04-01 08:41:02| 92|\n",
      "|1459492863665|  en|   5050fusion|2016-04-01 08:41:03| 92|\n",
      "|1459492863665|  en|          ind|2016-04-01 08:41:03| 92|\n",
      "|1459492863660|  en|         news|2016-04-01 08:41:03| 92|\n",
      "|1459492863660|  en|       attack|2016-04-01 08:41:03| 92|\n",
      "|1459492863659|  en|  harmonizers|2016-04-01 08:41:03| 92|\n",
      "|1459492863659|  en| iheartawards|2016-04-01 08:41:03| 92|\n",
      "|1459492863659|  en|  bestfanarmy|2016-04-01 08:41:03| 92|\n",
      "+-------------+----+-------------+-------------------+---+\n",
      "only showing top 20 rows\n",
      "\n"
     ]
    }
   ],
   "source": [
    "from pyspark.sql.functions import dayofyear, weekofyear, month\n",
    "english_df.withColumn('day', dayofyear(english_df.date)).show()"
   ]
  },
  {
   "cell_type": "markdown",
   "metadata": {},
   "source": [
    "### TODO (2 points / 50)\n",
    "\n",
    "Create a dataframe called `daily_hashtag` that includes the columns `month`, `week`, `day` and `hashtag`. Use the `english_df` you made above to start, and make sure you find the appropriate spark dataframe functions to make your life easier. Show the result.\n",
    "\n",
    "Try to match this view:\n",
    "\n",
    "```\n",
    "+-----+----+---+-----------+\n",
    "|month|week|day|    hashtag|\n",
    "+-----+----+---+-----------+\n",
    "|    4|  13| 92|        win|\n",
    "|    4|  13| 92|competition|\n",
    "|    4|  13| 92|   giveaway|\n",
    "|    4|  13| 92|    5sosfam|\n",
    "|    4|  13| 92|bestfanarmy|\n",
    "+-----+----+---+-----------+\n",
    "```"
   ]
  },
  {
   "cell_type": "code",
   "execution_count": 15,
   "metadata": {},
   "outputs": [
    {
     "name": "stdout",
     "output_type": "stream",
     "text": [
      "+-----+----+---+-----------+\n",
      "|month|week|day|    hashtag|\n",
      "+-----+----+---+-----------+\n",
      "|    4|  13| 92|        win|\n",
      "|    4|  13| 92|competition|\n",
      "|    4|  13| 92|   giveaway|\n",
      "|    4|  13| 92|    5sosfam|\n",
      "|    4|  13| 92|bestfanarmy|\n",
      "+-----+----+---+-----------+\n",
      "only showing top 5 rows\n",
      "\n"
     ]
    }
   ],
   "source": [
    "daily_hashtag = (english_df.withColumn('month', month(english_df.date))\n",
    "                           .withColumn('week', weekofyear(english_df.date))\n",
    "                           .withColumn('day', dayofyear(english_df.date))\n",
    "                           .select('month', 'week', 'day', 'hashtag')\n",
    "                )\n",
    "\n",
    "daily_hashtag.show(5)"
   ]
  },
  {
   "cell_type": "markdown",
   "metadata": {},
   "source": [
    "### TODO (2 points / 50)\n",
    "\n",
    "Now we want to calculate the number of times a hashtag is used per day. Sort in descending order of daily counts and show the result. Call the resulting dataframe `day_counts`.\n",
    "\n",
    "Your output should look like this:\n",
    "\n",
    "```\n",
    "+---+------------+----+------+\n",
    "|day|     hashtag|week| count|\n",
    "+---+------------+----+------+\n",
    "| 94|iheartawards|  13|190884|\n",
    "| 94| bestfanarmy|  13|185789|\n",
    "| 93|iheartawards|  13|124645|\n",
    "| 93| bestfanarmy|  13|122741|\n",
    "| 95|iheartawards|  14| 91921|\n",
    "+---+------------+----+------+\n",
    "```\n",
    "\n",
    "<div class=\"alert alert-info\">\n",
    "<p>Make sure you use `cache()` when you create `day_counts` because we will need it in the steps that follow!</p>\n",
    "</div>"
   ]
  },
  {
   "cell_type": "code",
   "execution_count": 16,
   "metadata": {},
   "outputs": [
    {
     "name": "stdout",
     "output_type": "stream",
     "text": [
      "+---+------------+----+------+\n",
      "|day|     hashtag|week| count|\n",
      "+---+------------+----+------+\n",
      "| 94|iheartawards|  13|190884|\n",
      "| 94| bestfanarmy|  13|185789|\n",
      "| 93|iheartawards|  13|124645|\n",
      "| 93| bestfanarmy|  13|122741|\n",
      "| 95|iheartawards|  14| 91921|\n",
      "+---+------------+----+------+\n",
      "only showing top 5 rows\n",
      "\n"
     ]
    }
   ],
   "source": [
    "day_counts = (daily_hashtag.groupby('day', 'hashtag', 'week')\n",
    "                           .count()\n",
    "                           .sort('count', ascending = False)\n",
    "                           .cache()\n",
    "             )\n",
    "\n",
    "day_counts.show(5)"
   ]
  },
  {
   "cell_type": "markdown",
   "metadata": {},
   "source": [
    "### TODO (5 points / 50)\n",
    "\n",
    "To get an idea of the most popular persistent hashtags, use the `week` column that we kept around to calculate the average number of times per day that a hashtag occurs in a week. Sort in descending order and show the top 20."
   ]
  },
  {
   "cell_type": "code",
   "execution_count": 32,
   "metadata": {},
   "outputs": [
    {
     "name": "stdout",
     "output_type": "stream",
     "text": [
      "+-----------------+----+------------------+\n",
      "|          hashtag|week|        avg(count)|\n",
      "+-----------------+----+------------------+\n",
      "|     iheartawards|  13|117272.33333333333|\n",
      "|      bestfanarmy|  13|114718.66666666667|\n",
      "|       mtvhottest|  29| 52061.42857142857|\n",
      "|       mtvhottest|  30|           47927.0|\n",
      "|          5sosfam|  13|41642.333333333336|\n",
      "|      harmonizers|  13|           40434.0|\n",
      "|     directioners|  13|30483.666666666668|\n",
      "|       teenchoice|  19|20068.571428571428|\n",
      "|    veranomtv2016|  25| 17867.85714285714|\n",
      "|    veranomtv2016|  26| 17116.14285714286|\n",
      "|aldub9thmonthsary|  15|16189.666666666666|\n",
      "|    veranomtv2016|  27| 14476.57142857143|\n",
      "|       mtvhottest|  31|           14062.0|\n",
      "|     iheartawards|  14|13457.142857142857|\n",
      "|    veranomtv2016|  30|12510.285714285714|\n",
      "|       mtvhottest|  28|12287.714285714286|\n",
      "|    mtvawardsstar|  23|12191.833333333334|\n",
      "|      bestfanarmy|  14| 12039.42857142857|\n",
      "|     ripchristina|  23|           11963.5|\n",
      "|    altonsterling|  27|           10266.2|\n",
      "+-----------------+----+------------------+\n",
      "only showing top 20 rows\n",
      "\n"
     ]
    }
   ],
   "source": [
    "week_avg = (day_counts.groupby('hashtag', 'week')\n",
    "          .mean('count')\n",
    "          .sort('avg(count)', ascending = False)\n",
    ").show(20)"
   ]
  },
  {
   "cell_type": "markdown",
   "metadata": {},
   "source": [
    "### Using `Window` functions \n",
    "\n",
    "Window functions are another awesome feature of dataframes. They allow users to accomplish complex tasks using very concise and simple code. \n",
    "\n",
    "Above we computed just the hashtag that had the most occurrences on *any* day. Now lets say we want to know the top tweets for *each* day.  \n",
    "\n",
    "This is a non-trivial thing to compute and requires \"windowing\" our data. I recommend reading this [window functions article](https://databricks.com/blog/2015/07/15/introducing-window-functions-in-spark-sql.html) to get acquainted with the idea. You can think of a window function as a fine-grained and more flexible `groupBy`. \n",
    "\n",
    "There are two things we need to define to use window functions:\n",
    "\n",
    "1. the \"window\" to use, based on which columns (partitioning) and how the rows should be ordered \n",
    "2. the computation to carry out for each windowed group, e.g. a max, an average etc.\n",
    "\n",
    "Lets see how this works by example. We will define a window function, `daily_window` that will partition data based on the `day` column. Within each window, the rows will be ordered by the daily hashtag count that we computed above. Finally, we will use the rank function **over** this window to give us the ranking of top tweets. \n",
    "\n",
    "In the end, this is a fairly complicated operation achieved in just a few lines of code! (can you think of how to do this with an RDD??)"
   ]
  },
  {
   "cell_type": "code",
   "execution_count": 19,
   "metadata": {
    "collapsed": true
   },
   "outputs": [],
   "source": [
    "from pyspark.sql import Window"
   ]
  },
  {
   "cell_type": "markdown",
   "metadata": {},
   "source": [
    "First, we specify the window function and the ordering:"
   ]
  },
  {
   "cell_type": "code",
   "execution_count": 20,
   "metadata": {
    "collapsed": true
   },
   "outputs": [],
   "source": [
    "daily_window = Window.partitionBy('day').orderBy(functions.desc('count'))"
   ]
  },
  {
   "cell_type": "markdown",
   "metadata": {},
   "source": [
    "The above window function says that we should window the data on the `day` column and order it by count. \n",
    "\n",
    "Now we need to define what we want to compute on the windowed data. We will start by just calculating the daily ranking of hashtags, so we can use the helpful built-in `functions.rank()` and sort:"
   ]
  },
  {
   "cell_type": "code",
   "execution_count": 21,
   "metadata": {
    "collapsed": true
   },
   "outputs": [],
   "source": [
    "daily_rank = functions.rank() \\\n",
    "                      .over(daily_window) \\\n",
    "                      .alias('rank')"
   ]
  },
  {
   "cell_type": "code",
   "execution_count": 22,
   "metadata": {},
   "outputs": [
    {
     "data": {
      "text/plain": [
       "Column<b'RANK() OVER (PARTITION BY day ORDER BY count DESC NULLS LAST UnspecifiedFrame) AS `rank`'>"
      ]
     },
     "execution_count": 22,
     "metadata": {},
     "output_type": "execute_result"
    }
   ],
   "source": [
    "daily_rank"
   ]
  },
  {
   "cell_type": "markdown",
   "metadata": {},
   "source": [
    "Now we have the pieces we need to compute the top five hashtags for each day in our data:"
   ]
  },
  {
   "cell_type": "code",
   "execution_count": 23,
   "metadata": {},
   "outputs": [
    {
     "name": "stdout",
     "output_type": "stream",
     "text": [
      "+---+------+------------+----+\n",
      "|day| count|     hashtag|rank|\n",
      "+---+------+------------+----+\n",
      "| 92| 36288|iheartawards|   1|\n",
      "| 92| 35626| bestfanarmy|   2|\n",
      "| 92| 15678| harmonizers|   3|\n",
      "| 92| 13962|     5sosfam|   4|\n",
      "| 92|  5528|directioners|   5|\n",
      "| 93|124645|iheartawards|   1|\n",
      "| 93|122741| bestfanarmy|   2|\n",
      "| 93| 50782| harmonizers|   3|\n",
      "| 93| 42458|     5sosfam|   4|\n",
      "| 93| 28171|directioners|   5|\n",
      "| 94|190884|iheartawards|   1|\n",
      "| 94|185789| bestfanarmy|   2|\n",
      "| 94| 68507|     5sosfam|   3|\n",
      "| 94| 57752|directioners|   4|\n",
      "| 94| 54842| harmonizers|   5|\n",
      "| 95| 91921|iheartawards|   1|\n",
      "| 95| 83197| bestfanarmy|   2|\n",
      "| 95| 41305|     5sosfam|   3|\n",
      "| 95| 20245| harmonizers|   4|\n",
      "| 95| 18909|wrestlemania|   5|\n",
      "+---+------+------------+----+\n",
      "only showing top 20 rows\n",
      "\n"
     ]
    }
   ],
   "source": [
    "(day_counts.select('day', 'count', 'hashtag', daily_rank)\n",
    "           .filter('rank <= 5')\n",
    "           .sort('day', 'rank')\n",
    "           .show(20))"
   ]
  }
 ],
 "metadata": {
  "kernelspec": {
   "display_name": "Python 3",
   "language": "python",
   "name": "python3"
  },
  "language_info": {
   "codemirror_mode": {
    "name": "ipython",
    "version": 3
   },
   "file_extension": ".py",
   "mimetype": "text/x-python",
   "name": "python",
   "nbconvert_exporter": "python",
   "pygments_lexer": "ipython3",
   "version": "3.6.3"
  },
  "toc": {
   "nav_menu": {},
   "number_sections": true,
   "sideBar": true,
   "skip_h1_title": false,
   "toc_cell": false,
   "toc_position": {},
   "toc_section_display": "block",
   "toc_window_display": false
  },
  "varInspector": {
   "cols": {
    "lenName": 16,
    "lenType": 16,
    "lenVar": 40
   },
   "kernels_config": {
    "python": {
     "delete_cmd_postfix": "",
     "delete_cmd_prefix": "del ",
     "library": "var_list.py",
     "varRefreshCmd": "print(var_dic_list())"
    },
    "r": {
     "delete_cmd_postfix": ") ",
     "delete_cmd_prefix": "rm(",
     "library": "var_list.r",
     "varRefreshCmd": "cat(var_dic_list()) "
    }
   },
   "types_to_exclude": [
    "module",
    "function",
    "builtin_function_or_method",
    "instance",
    "_Feature"
   ],
   "window_display": false
  }
 },
 "nbformat": 4,
 "nbformat_minor": 2
}
